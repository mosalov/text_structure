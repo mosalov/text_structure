{
 "cells": [
  {
   "cell_type": "code",
   "execution_count": 1,
   "id": "2597e413",
   "metadata": {},
   "outputs": [],
   "source": [
    "text = \"\"\"\n",
    "Все счастливые семьи похожи друг на друга, каждая несчастливая семья несчастлива по-своему. Все смешалось в доме Облонских. Жена узнала, что муж был в связи с бывшею в их доме француженкою-гувернанткой, и объявила мужу, что не может жить с ним в одном доме. Положение это продолжалось уже третий день и мучительно чувствовалось и самими супругами, и всеми членами семьи, и домочадцами. Все члены семьи и домочадцы чувствовали, что нет смысла в их сожительстве и что на каждом постоялом дворе случайно сошедшиеся люди более связаны между собой, чем они, члены семьи и домочадцы Облонских. Жена не выходила из своих комнат, мужа третий день не было дома. Дети бегали по всему дому, как потерянные; англичанка поссорилась с экономкой и написала записку приятельнице, прося приискать ей новое место; повар ушел вчера со двора, во время самого обеда; черная кухарка и кучер просили расчета.\n",
    "\"\"\""
   ]
  },
  {
   "cell_type": "code",
   "execution_count": 2,
   "id": "963c8899",
   "metadata": {},
   "outputs": [],
   "source": [
    "import torch\n",
    "from transformers import AutoTokenizer, AutoModelForSequenceClassification\n",
    "from razdel import sentenize\n",
    "import numpy as np\n",
    "import pandas as pd\n",
    "from tqdm import tqdm\n",
    "from termcolor import colored"
   ]
  },
  {
   "cell_type": "code",
   "execution_count": 3,
   "id": "da4dc75d",
   "metadata": {
    "scrolled": true
   },
   "outputs": [
    {
     "name": "stderr",
     "output_type": "stream",
     "text": [
      "H:\\Anaconda\\envs\\transformers\\lib\\site-packages\\transformers\\configuration_utils.py:337: UserWarning: Passing `gradient_checkpointing` to a config initialization is deprecated and will be removed in v5 Transformers. Using `model.gradient_checkpointing_enable()` instead, or if you are using the `Trainer` API, pass `gradient_checkpointing=True` in your `TrainingArguments`.\n",
      "  \"Passing `gradient_checkpointing` to a config initialization is deprecated and will be removed in v5 \"\n"
     ]
    }
   ],
   "source": [
    "model_checkpoint = 'cointegrated/rubert-base-cased-nli-threeway'\n",
    "tokenizer = AutoTokenizer.from_pretrained(model_checkpoint)\n",
    "model = AutoModelForSequenceClassification.from_pretrained(model_checkpoint)\n",
    "if torch.cuda.is_available():\n",
    "    model.cuda()"
   ]
  },
  {
   "cell_type": "code",
   "execution_count": 4,
   "id": "4fe51435",
   "metadata": {},
   "outputs": [],
   "source": [
    "def predict_zero_shot(text, label_texts, model, tokenizer, label='entailment', normalize=True):\n",
    "    label_texts\n",
    "    tokens = tokenizer([text] * len(label_texts), label_texts, truncation=True, return_tensors='pt', padding=True)\n",
    "    with torch.inference_mode():\n",
    "        result = torch.softmax(model(**tokens.to(model.device)).logits, -1)\n",
    "    proba = result[:, model.config.label2id[label]].cpu().numpy()\n",
    "    if normalize:\n",
    "        proba /= sum(proba)\n",
    "    return proba"
   ]
  },
  {
   "cell_type": "code",
   "execution_count": 5,
   "id": "034a6a05",
   "metadata": {},
   "outputs": [],
   "source": [
    "classes_0 = ['Правда', 'Истина', 'Действительность', 'Реальность', 'Факт']\n",
    "classes_1 = ['Ложь', 'Неправда', 'Обман', 'Заблуждение', 'Выдумка']\n",
    "classes_2 = ['Изложение', 'Повествование', 'Информирование', 'Описание', 'Исследование']\n",
    "classes_3 = ['Восхваление', 'Запугивание', 'Нагнетание', 'Расхваливание', 'Пропаганда']\n",
    "classes_list = [classes_0, classes_1, classes_2, classes_3]"
   ]
  },
  {
   "cell_type": "code",
   "execution_count": 6,
   "id": "5cb1dcd6",
   "metadata": {},
   "outputs": [],
   "source": [
    "df_classes = pd.DataFrame(columns=['Слово', 'Класс'])\n",
    "for i, e in enumerate(classes_list):\n",
    "    df_e = pd.DataFrame(e, columns=['Слово'])\n",
    "    df_e['Класс'] = i\n",
    "    df_classes = pd.concat([df_classes, df_e])\n",
    "df_classes = df_classes.reset_index(drop=True)"
   ]
  },
  {
   "cell_type": "code",
   "execution_count": 7,
   "id": "afd4f926",
   "metadata": {},
   "outputs": [],
   "source": [
    "sentences = [sent.text for sent in sentenize(text)]"
   ]
  },
  {
   "cell_type": "code",
   "execution_count": 8,
   "id": "ee9c4e76",
   "metadata": {
    "scrolled": false
   },
   "outputs": [
    {
     "name": "stderr",
     "output_type": "stream",
     "text": [
      "100%|██████████| 7/7 [00:38<00:00,  5.47s/it]\n"
     ]
    }
   ],
   "source": [
    "classes = df_classes.loc[:,'Слово'].to_list()\n",
    "results = []\n",
    "for sentence in tqdm(sentences):\n",
    "    estimates = predict_zero_shot(sentence, classes, model, tokenizer)\n",
    "    results.append(estimates)\n",
    "\n",
    "df_estimates = pd.DataFrame()\n",
    "df_estimates['Предложение'] = sentences\n",
    "df_estimates = df_estimates.join(pd.DataFrame(results, columns=classes))"
   ]
  },
  {
   "cell_type": "code",
   "execution_count": 9,
   "id": "494ed47a",
   "metadata": {
    "scrolled": true
   },
   "outputs": [],
   "source": [
    "estimates = ['Правда', 'Ложь', 'Строгость', 'Эмоциональность']\n",
    "df_final_estimates = pd.DataFrame()\n",
    "df_final_estimates['Предложение'] = df_estimates['Предложение']\n",
    "for i, c in enumerate(classes_list):\n",
    "    df_final_estimates[estimates[i]] = df_estimates.apply(lambda row: row[c].sum(),axis=1)"
   ]
  },
  {
   "cell_type": "code",
   "execution_count": 10,
   "id": "13a320d3",
   "metadata": {},
   "outputs": [
    {
     "name": "stderr",
     "output_type": "stream",
     "text": [
      "100%|██████████| 7/7 [00:14<00:00,  2.08s/it]\n"
     ]
    }
   ],
   "source": [
    "columns = ['Предложение', 'Следствие', 'Противоречие']\n",
    "df_logic = pd.DataFrame(columns=columns)\n",
    "\n",
    "for sentence in tqdm(sentences):\n",
    "    prev_text = \" \".join(sentences[:sentences.index(sentence)])\n",
    "    with torch.inference_mode():\n",
    "        out = model(**tokenizer(prev_text, sentence, return_tensors='pt', truncation=True).to(model.device))\n",
    "        proba = torch.softmax(out.logits, -1).cpu().numpy()[0]\n",
    "    prev_analysis = {v: proba[k] for k, v in model.config.id2label.items()}\n",
    "\n",
    "    post_text = \" \".join(sentences[sentences.index(sentence)+1:])\n",
    "    with torch.inference_mode():\n",
    "        out = model(**tokenizer(sentence, post_text, return_tensors='pt', truncation=True).to(model.device))\n",
    "        proba = torch.softmax(out.logits, -1).cpu().numpy()[0]\n",
    "    post_analysis = {v: proba[k] for k, v in model.config.id2label.items()}\n",
    "    \n",
    "    new_df = pd.DataFrame([\n",
    "        [sentence,\n",
    "         0.5*(prev_analysis['entailment']+post_analysis['entailment']), \n",
    "         0.5*(prev_analysis['contradiction']+post_analysis['contradiction'])\n",
    "        ]], columns = columns)\n",
    "    df_logic = df_logic.append(new_df)\n",
    "\n",
    "df_logic = df_logic.reset_index(drop=True)"
   ]
  },
  {
   "cell_type": "code",
   "execution_count": 11,
   "id": "244e95af",
   "metadata": {
    "scrolled": true
   },
   "outputs": [],
   "source": [
    "df_results = df_final_estimates.merge(df_logic, on='Предложение')"
   ]
  },
  {
   "cell_type": "code",
   "execution_count": 12,
   "id": "eb9a11c3",
   "metadata": {
    "scrolled": true
   },
   "outputs": [],
   "source": [
    "df_results['Правда+'] = df_results['Правда']*(1+df_results['Следствие'])*(1-df_results['Противоречие'])\n",
    "df_results['Ложь+'] = df_results['Ложь']*(1+df_results['Следствие'])*(1-df_results['Противоречие'])"
   ]
  },
  {
   "cell_type": "code",
   "execution_count": 13,
   "id": "e1e63c80",
   "metadata": {
    "scrolled": true
   },
   "outputs": [],
   "source": [
    "df_results['Мат.ожидание Правда'] = df_results['Правда+'] - df_results['Ложь+']\n",
    "df_results['Мат.ожидание Строгость'] = df_results['Строгость'] - df_results['Эмоциональность']\n",
    "df_results['Знак МО Правда'] = np.sign(df_results['Мат.ожидание Правда'])\n",
    "df_results['Знак МО Строгость'] = np.sign(df_results['Мат.ожидание Строгость'])\n",
    "df_results['Качество'] = np.sign(df_results['Знак МО Правда'] + df_results['Знак МО Строгость']).astype(int)"
   ]
  },
  {
   "cell_type": "code",
   "execution_count": 14,
   "id": "ac655ddd",
   "metadata": {
    "scrolled": true
   },
   "outputs": [
    {
     "name": "stdout",
     "output_type": "stream",
     "text": [
      "\u001b[32mВсе счастливые семьи похожи друг на друга, каждая несчастливая семья несчастлива по-своему.\u001b[0m\n",
      "\u001b[32mВсе смешалось в доме Облонских.\u001b[0m\n",
      "\u001b[31mЖена узнала, что муж был в связи с бывшею в их доме француженкою-гувернанткой, и объявила мужу, что не может жить с ним в одном доме.\u001b[0m\n",
      "\u001b[33mПоложение это продолжалось уже третий день и мучительно чувствовалось и самими супругами, и всеми членами семьи, и домочадцами.\u001b[0m\n",
      "\u001b[33mВсе члены семьи и домочадцы чувствовали, что нет смысла в их сожительстве и что на каждом постоялом дворе случайно сошедшиеся люди более связаны между собой, чем они, члены семьи и домочадцы Облонских.\u001b[0m\n",
      "\u001b[32mЖена не выходила из своих комнат, мужа третий день не было дома.\u001b[0m\n",
      "\u001b[33mДети бегали по всему дому, как потерянные; англичанка поссорилась с экономкой и написала записку приятельнице, прося приискать ей новое место; повар ушел вчера со двора, во время самого обеда; черная кухарка и кучер просили расчета.\u001b[0m\n"
     ]
    }
   ],
   "source": [
    "colors = {-1:'red', 0:'yellow', 1:'green'}\n",
    "for index, row in df_results.iterrows():\n",
    "    print(colored(row['Предложение'], colors[row['Качество']]))"
   ]
  }
 ],
 "metadata": {
  "kernelspec": {
   "display_name": "Python 3",
   "language": "python",
   "name": "python3"
  },
  "language_info": {
   "codemirror_mode": {
    "name": "ipython",
    "version": 3
   },
   "file_extension": ".py",
   "mimetype": "text/x-python",
   "name": "python",
   "nbconvert_exporter": "python",
   "pygments_lexer": "ipython3",
   "version": "3.6.13"
  }
 },
 "nbformat": 4,
 "nbformat_minor": 5
}
