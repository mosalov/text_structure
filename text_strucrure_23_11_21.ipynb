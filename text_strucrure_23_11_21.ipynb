{
 "cells": [
  {
   "cell_type": "code",
   "execution_count": 1,
   "id": "b59f25bc",
   "metadata": {},
   "outputs": [],
   "source": [
    "import torch\n",
    "from transformers import AutoTokenizer, AutoModelForSequenceClassification\n",
    "from razdel import sentenize\n",
    "import itertools\n",
    "import pandas as pd\n",
    "from tqdm import tqdm\n",
    "from matplotlib import pyplot as plt\n",
    "from sklearn.decomposition import PCA"
   ]
  },
  {
   "cell_type": "code",
   "execution_count": 2,
   "id": "fa844a72",
   "metadata": {
    "scrolled": true
   },
   "outputs": [
    {
     "name": "stderr",
     "output_type": "stream",
     "text": [
      "H:\\Anaconda\\envs\\transformers\\lib\\site-packages\\transformers\\configuration_utils.py:337: UserWarning: Passing `gradient_checkpointing` to a config initialization is deprecated and will be removed in v5 Transformers. Using `model.gradient_checkpointing_enable()` instead, or if you are using the `Trainer` API, pass `gradient_checkpointing=True` in your `TrainingArguments`.\n",
      "  \"Passing `gradient_checkpointing` to a config initialization is deprecated and will be removed in v5 \"\n"
     ]
    }
   ],
   "source": [
    "model_checkpoint = 'cointegrated/rubert-base-cased-nli-threeway'\n",
    "tokenizer = AutoTokenizer.from_pretrained(model_checkpoint)\n",
    "model = AutoModelForSequenceClassification.from_pretrained(model_checkpoint)\n",
    "if torch.cuda.is_available():\n",
    "    model.cuda()"
   ]
  },
  {
   "cell_type": "code",
   "execution_count": 23,
   "id": "ffc23a00",
   "metadata": {},
   "outputs": [],
   "source": [
    "#text = \"Фестиваль национальных культур – самое яркое событие осени для студентов Технологического университета им. А.А. Леонова. И в этом году у него первый мини-юбилей! Пять лет как фестиваль является традиционным праздником нашего вуза и на несколько недель захватывает внимание студентов. Они активно и с энтузиазмом готовят свои выступления, продумывают сценарии и репетируют, оттачивая своё мастерство. Отличительными чертами Фестиваля национальных культур за годы его проведения стали визитные карточки разных государств, творческие номера и дегустация блюд национальной кухни. Часто именно иностранные студенты представляют свою Родину, но к процессу обязательно подключаются и другие ребята. Благодаря такому подходу студенты ещё на этапе подготовки к фестивалю погружаются в национальную культуру многих стран и делятся друг с другом своим опытом. В связи с эпидемиологической ситуацией в этом году не получилось накрыть стол с национальными блюдами, но это не помешало празднику раскрыться во всей красе через яркие информативные презентации и эффектные выступления студентов. Мероприятие прошло с соблюдением всех необходимых мер безопасности, вход осуществлялся по QR-кодам, а все желающие могли присоединиться к трансляции онлайн. В конце участники были награждены грамотами. Проректор по внеучебной и воспитательной работе Вера Минакова поблагодарила всех ребят за тот вклад, что они внесли в организацию такого яркого праздника, и отметила, что гости зарядились невероятной энергией от выступающих.\"\n",
    "#text = \"Минтранс предложил оснастить автомобили сервисов такси устройствами для контроля сонливости водителей. Об этом говорится в проекте федерального закона «О такси», размещённого на сайте проектов нормативно-правовых актов. Законопроект предусматривает, чтобы кузов такси окрашивали по схеме из квадратов контрастных цветов в шахматном порядке. При этом цветовая гамма должна «соответствовать стандартам региона». На крыше автомобиля необходимо размещать опознавательный фонарь оранжевого цвета. Если проект примут, он вступит в силу 1 сентября 2022 года. Действующие ПДД разрешают водителю находиться за рулём суммарно не более десяти часов. Контролируют это с помощью тахографов. Штраф для нарушителей — до 2,5 тысяч рублей.\"\n",
    "text = \"Сегодня в Технологическом университете им. А.А. Леонова состоялась встреча представителей компании «Первый Бит» с преподавателями вуза и студентами IT-направлений подготовки. Эта встреча – не первая. Ранее студенты уже познакомились с деятельностью компании «Первый Бит». Теперь же молодые люди узнали о возможностях трудоустройства и прохождения практики в организации. Компания заинтересована в молодых и перспективных сотрудниках. Поэтому специально для студентов её руководство разработало особые условия трудоустройства. Ребятам предлагается устроиться на работу в «Первый Бит» на вакансии с частичной занятостью, что позволит совмещать трудовую деятельность с учёбой. При успешном трудоустройстве, студенты пройдут в компании необходимое оплачиваемое обучение. Являясь сотрудниками «Первого Бита», ребята также смогут работать над своими курсовыми и дипломными проектами по тематике компании под руководством её специалистов. Многих из присутствовавших на встрече студентов заинтересовали такие перспективы, и представители «Первого Бита» сразу же предложили им пройти необходимое для трудоустройства тестирование. А остальных ребят, кто ещё не принял решение, компания с нетерпением будет ждать в своём офисе в Москве. Напомним, компания «Первый Бит» давно известна на рынке информационных услуг по автоматизации процессов учёта и управления на базе 1С. Партнёрами компании являются крупнейшие корпорации и предприятия России и ближнего зарубежья.\""
   ]
  },
  {
   "cell_type": "code",
   "execution_count": 24,
   "id": "201ffdec",
   "metadata": {},
   "outputs": [],
   "source": [
    "sentences = []\n",
    "for sent in sentenize(text):\n",
    "    sentence = {}\n",
    "    sentence['text'] = sent.text\n",
    "    sentence['span'] = (sent.start, sent.stop)\n",
    "    sentences.append(sentence)"
   ]
  },
  {
   "cell_type": "code",
   "execution_count": 25,
   "id": "c003e9cd",
   "metadata": {},
   "outputs": [],
   "source": [
    "result = pd.DataFrame()"
   ]
  },
  {
   "cell_type": "code",
   "execution_count": 26,
   "id": "86948971",
   "metadata": {
    "scrolled": true
   },
   "outputs": [
    {
     "name": "stderr",
     "output_type": "stream",
     "text": [
      "100%|██████████| 66/66 [00:26<00:00,  2.51it/s]\n"
     ]
    }
   ],
   "source": [
    "result1 = pd.DataFrame()\n",
    "f_sentences = []\n",
    "s_sentences = []\n",
    "spans = []\n",
    "entailments = []\n",
    "contradictions = []\n",
    "neutrals = []\n",
    "\n",
    "len_sentences = int(len(sentences)*(len(sentences)-1)/2)\n",
    "\n",
    "for first_sentence, second_sentence in tqdm(itertools.combinations(sentences, 2), total = len_sentences):\n",
    "    text1 = first_sentence['text']\n",
    "    text2 = second_sentence['text']\n",
    "    span2 = second_sentence['span']\n",
    "    with torch.inference_mode():\n",
    "        out = model(**tokenizer(text1, text2, return_tensors='pt').to(model.device))\n",
    "        proba = torch.softmax(out.logits, -1).cpu().numpy()[0]\n",
    "    analysis = {v: proba[k] for k, v in model.config.id2label.items()}\n",
    "    f_sentences.append(text1)\n",
    "    s_sentences.append(text2)\n",
    "    spans.append(span2)\n",
    "    entailments.append(analysis['entailment'])\n",
    "    contradictions.append(analysis['contradiction'])\n",
    "    neutrals.append(analysis['neutral'])\n",
    "\n",
    "result1['Previous sentence'] = f_sentences\n",
    "result1['Span'] = spans\n",
    "result1['Sentence'] = s_sentences\n",
    "result1['Prev entailment'] = entailments\n",
    "result1['Prev contradiction'] = contradictions\n",
    "result1['Prev neutral'] = neutrals"
   ]
  },
  {
   "cell_type": "code",
   "execution_count": 27,
   "id": "cd6f1241",
   "metadata": {
    "scrolled": true
   },
   "outputs": [
    {
     "data": {
      "text/html": [
       "<div>\n",
       "<style scoped>\n",
       "    .dataframe tbody tr th:only-of-type {\n",
       "        vertical-align: middle;\n",
       "    }\n",
       "\n",
       "    .dataframe tbody tr th {\n",
       "        vertical-align: top;\n",
       "    }\n",
       "\n",
       "    .dataframe thead th {\n",
       "        text-align: right;\n",
       "    }\n",
       "</style>\n",
       "<table border=\"1\" class=\"dataframe\">\n",
       "  <thead>\n",
       "    <tr style=\"text-align: right;\">\n",
       "      <th></th>\n",
       "      <th>Previous sentence</th>\n",
       "      <th>Span</th>\n",
       "      <th>Sentence</th>\n",
       "      <th>Prev entailment</th>\n",
       "      <th>Prev contradiction</th>\n",
       "      <th>Prev neutral</th>\n",
       "    </tr>\n",
       "  </thead>\n",
       "  <tbody>\n",
       "    <tr>\n",
       "      <th>0</th>\n",
       "      <td>Сегодня в Технологическом университете им. А.А...</td>\n",
       "      <td>(175, 199)</td>\n",
       "      <td>Эта встреча – не первая.</td>\n",
       "      <td>0.022912</td>\n",
       "      <td>0.111101</td>\n",
       "      <td>0.865987</td>\n",
       "    </tr>\n",
       "    <tr>\n",
       "      <th>1</th>\n",
       "      <td>Сегодня в Технологическом университете им. А.А...</td>\n",
       "      <td>(200, 271)</td>\n",
       "      <td>Ранее студенты уже познакомились с деятельност...</td>\n",
       "      <td>0.058702</td>\n",
       "      <td>0.017497</td>\n",
       "      <td>0.923801</td>\n",
       "    </tr>\n",
       "    <tr>\n",
       "      <th>2</th>\n",
       "      <td>Сегодня в Технологическом университете им. А.А...</td>\n",
       "      <td>(272, 370)</td>\n",
       "      <td>Теперь же молодые люди узнали о возможностях т...</td>\n",
       "      <td>0.315475</td>\n",
       "      <td>0.007083</td>\n",
       "      <td>0.677442</td>\n",
       "    </tr>\n",
       "    <tr>\n",
       "      <th>3</th>\n",
       "      <td>Сегодня в Технологическом университете им. А.А...</td>\n",
       "      <td>(371, 433)</td>\n",
       "      <td>Компания заинтересована в молодых и перспектив...</td>\n",
       "      <td>0.245740</td>\n",
       "      <td>0.002360</td>\n",
       "      <td>0.751900</td>\n",
       "    </tr>\n",
       "    <tr>\n",
       "      <th>4</th>\n",
       "      <td>Сегодня в Технологическом университете им. А.А...</td>\n",
       "      <td>(434, 525)</td>\n",
       "      <td>Поэтому специально для студентов её руководств...</td>\n",
       "      <td>0.003524</td>\n",
       "      <td>0.004611</td>\n",
       "      <td>0.991865</td>\n",
       "    </tr>\n",
       "  </tbody>\n",
       "</table>\n",
       "</div>"
      ],
      "text/plain": [
       "                                   Previous sentence        Span  \\\n",
       "0  Сегодня в Технологическом университете им. А.А...  (175, 199)   \n",
       "1  Сегодня в Технологическом университете им. А.А...  (200, 271)   \n",
       "2  Сегодня в Технологическом университете им. А.А...  (272, 370)   \n",
       "3  Сегодня в Технологическом университете им. А.А...  (371, 433)   \n",
       "4  Сегодня в Технологическом университете им. А.А...  (434, 525)   \n",
       "\n",
       "                                            Sentence  Prev entailment  \\\n",
       "0                           Эта встреча – не первая.         0.022912   \n",
       "1  Ранее студенты уже познакомились с деятельност...         0.058702   \n",
       "2  Теперь же молодые люди узнали о возможностях т...         0.315475   \n",
       "3  Компания заинтересована в молодых и перспектив...         0.245740   \n",
       "4  Поэтому специально для студентов её руководств...         0.003524   \n",
       "\n",
       "   Prev contradiction  Prev neutral  \n",
       "0            0.111101      0.865987  \n",
       "1            0.017497      0.923801  \n",
       "2            0.007083      0.677442  \n",
       "3            0.002360      0.751900  \n",
       "4            0.004611      0.991865  "
      ]
     },
     "execution_count": 27,
     "metadata": {},
     "output_type": "execute_result"
    }
   ],
   "source": [
    "result1[:5]"
   ]
  },
  {
   "cell_type": "code",
   "execution_count": 28,
   "id": "bb78f45e",
   "metadata": {},
   "outputs": [],
   "source": [
    "del result1['Previous sentence']"
   ]
  },
  {
   "cell_type": "code",
   "execution_count": 29,
   "id": "136f5324",
   "metadata": {},
   "outputs": [],
   "source": [
    "result1_1 = result1.groupby(['Sentence', 'Span']).mean()"
   ]
  },
  {
   "cell_type": "code",
   "execution_count": 30,
   "id": "e275f5ce",
   "metadata": {
    "scrolled": true
   },
   "outputs": [
    {
     "data": {
      "text/html": [
       "<div>\n",
       "<style scoped>\n",
       "    .dataframe tbody tr th:only-of-type {\n",
       "        vertical-align: middle;\n",
       "    }\n",
       "\n",
       "    .dataframe tbody tr th {\n",
       "        vertical-align: top;\n",
       "    }\n",
       "\n",
       "    .dataframe thead th {\n",
       "        text-align: right;\n",
       "    }\n",
       "</style>\n",
       "<table border=\"1\" class=\"dataframe\">\n",
       "  <thead>\n",
       "    <tr style=\"text-align: right;\">\n",
       "      <th></th>\n",
       "      <th></th>\n",
       "      <th>Prev entailment</th>\n",
       "      <th>Prev contradiction</th>\n",
       "      <th>Prev neutral</th>\n",
       "    </tr>\n",
       "    <tr>\n",
       "      <th>Sentence</th>\n",
       "      <th>Span</th>\n",
       "      <th></th>\n",
       "      <th></th>\n",
       "      <th></th>\n",
       "    </tr>\n",
       "  </thead>\n",
       "  <tbody>\n",
       "    <tr>\n",
       "      <th>А остальных ребят, кто ещё не принял решение, компания с нетерпением будет ждать в своём офисе в Москве.</th>\n",
       "      <th>(1121, 1225)</th>\n",
       "      <td>0.002333</td>\n",
       "      <td>0.089110</td>\n",
       "      <td>0.908556</td>\n",
       "    </tr>\n",
       "    <tr>\n",
       "      <th>Компания заинтересована в молодых и перспективных сотрудниках.</th>\n",
       "      <th>(371, 433)</th>\n",
       "      <td>0.128547</td>\n",
       "      <td>0.003420</td>\n",
       "      <td>0.868034</td>\n",
       "    </tr>\n",
       "    <tr>\n",
       "      <th>Многих из присутствовавших на встрече студентов заинтересовали такие перспективы, и представители «Первого Бита» сразу же предложили им пройти необходимое для трудоустройства тестирование.</th>\n",
       "      <th>(932, 1120)</th>\n",
       "      <td>0.002388</td>\n",
       "      <td>0.013686</td>\n",
       "      <td>0.983927</td>\n",
       "    </tr>\n",
       "    <tr>\n",
       "      <th>Напомним, компания «Первый Бит» давно известна на рынке информационных услуг по автоматизации процессов учёта и управления на базе 1С. Партнёрами компании являются крупнейшие корпорации и предприятия России и ближнего зарубежья.</th>\n",
       "      <th>(1226, 1454)</th>\n",
       "      <td>0.002292</td>\n",
       "      <td>0.007084</td>\n",
       "      <td>0.990624</td>\n",
       "    </tr>\n",
       "    <tr>\n",
       "      <th>Поэтому специально для студентов её руководство разработало особые условия трудоустройства.</th>\n",
       "      <th>(434, 525)</th>\n",
       "      <td>0.002165</td>\n",
       "      <td>0.005675</td>\n",
       "      <td>0.992161</td>\n",
       "    </tr>\n",
       "    <tr>\n",
       "      <th>При успешном трудоустройстве, студенты пройдут в компании необходимое оплачиваемое обучение.</th>\n",
       "      <th>(674, 766)</th>\n",
       "      <td>0.015372</td>\n",
       "      <td>0.020128</td>\n",
       "      <td>0.964499</td>\n",
       "    </tr>\n",
       "    <tr>\n",
       "      <th>Ранее студенты уже познакомились с деятельностью компании «Первый Бит».</th>\n",
       "      <th>(200, 271)</th>\n",
       "      <td>0.034609</td>\n",
       "      <td>0.012068</td>\n",
       "      <td>0.953323</td>\n",
       "    </tr>\n",
       "    <tr>\n",
       "      <th>Ребятам предлагается устроиться на работу в «Первый Бит» на вакансии с частичной занятостью, что позволит совмещать трудовую деятельность с учёбой.</th>\n",
       "      <th>(526, 673)</th>\n",
       "      <td>0.010967</td>\n",
       "      <td>0.029800</td>\n",
       "      <td>0.959233</td>\n",
       "    </tr>\n",
       "    <tr>\n",
       "      <th>Теперь же молодые люди узнали о возможностях трудоустройства и прохождения практики в организации.</th>\n",
       "      <th>(272, 370)</th>\n",
       "      <td>0.112820</td>\n",
       "      <td>0.015943</td>\n",
       "      <td>0.871238</td>\n",
       "    </tr>\n",
       "    <tr>\n",
       "      <th>Эта встреча – не первая.</th>\n",
       "      <th>(175, 199)</th>\n",
       "      <td>0.022912</td>\n",
       "      <td>0.111101</td>\n",
       "      <td>0.865987</td>\n",
       "    </tr>\n",
       "    <tr>\n",
       "      <th>Являясь сотрудниками «Первого Бита», ребята также смогут работать над своими курсовыми и дипломными проектами по тематике компании под руководством её специалистов.</th>\n",
       "      <th>(767, 931)</th>\n",
       "      <td>0.013507</td>\n",
       "      <td>0.005063</td>\n",
       "      <td>0.981430</td>\n",
       "    </tr>\n",
       "  </tbody>\n",
       "</table>\n",
       "</div>"
      ],
      "text/plain": [
       "                                                                 Prev entailment  \\\n",
       "Sentence                                           Span                            \n",
       "А остальных ребят, кто ещё не принял решение, к... (1121, 1225)         0.002333   \n",
       "Компания заинтересована в молодых и перспективн... (371, 433)           0.128547   \n",
       "Многих из присутствовавших на встрече студентов... (932, 1120)          0.002388   \n",
       "Напомним, компания «Первый Бит» давно известна ... (1226, 1454)         0.002292   \n",
       "Поэтому специально для студентов её руководство... (434, 525)           0.002165   \n",
       "При успешном трудоустройстве, студенты пройдут ... (674, 766)           0.015372   \n",
       "Ранее студенты уже познакомились с деятельность... (200, 271)           0.034609   \n",
       "Ребятам предлагается устроиться на работу в «Пе... (526, 673)           0.010967   \n",
       "Теперь же молодые люди узнали о возможностях тр... (272, 370)           0.112820   \n",
       "Эта встреча – не первая.                           (175, 199)           0.022912   \n",
       "Являясь сотрудниками «Первого Бита», ребята так... (767, 931)           0.013507   \n",
       "\n",
       "                                                                 Prev contradiction  \\\n",
       "Sentence                                           Span                               \n",
       "А остальных ребят, кто ещё не принял решение, к... (1121, 1225)            0.089110   \n",
       "Компания заинтересована в молодых и перспективн... (371, 433)              0.003420   \n",
       "Многих из присутствовавших на встрече студентов... (932, 1120)             0.013686   \n",
       "Напомним, компания «Первый Бит» давно известна ... (1226, 1454)            0.007084   \n",
       "Поэтому специально для студентов её руководство... (434, 525)              0.005675   \n",
       "При успешном трудоустройстве, студенты пройдут ... (674, 766)              0.020128   \n",
       "Ранее студенты уже познакомились с деятельность... (200, 271)              0.012068   \n",
       "Ребятам предлагается устроиться на работу в «Пе... (526, 673)              0.029800   \n",
       "Теперь же молодые люди узнали о возможностях тр... (272, 370)              0.015943   \n",
       "Эта встреча – не первая.                           (175, 199)              0.111101   \n",
       "Являясь сотрудниками «Первого Бита», ребята так... (767, 931)              0.005063   \n",
       "\n",
       "                                                                 Prev neutral  \n",
       "Sentence                                           Span                        \n",
       "А остальных ребят, кто ещё не принял решение, к... (1121, 1225)      0.908556  \n",
       "Компания заинтересована в молодых и перспективн... (371, 433)        0.868034  \n",
       "Многих из присутствовавших на встрече студентов... (932, 1120)       0.983927  \n",
       "Напомним, компания «Первый Бит» давно известна ... (1226, 1454)      0.990624  \n",
       "Поэтому специально для студентов её руководство... (434, 525)        0.992161  \n",
       "При успешном трудоустройстве, студенты пройдут ... (674, 766)        0.964499  \n",
       "Ранее студенты уже познакомились с деятельность... (200, 271)        0.953323  \n",
       "Ребятам предлагается устроиться на работу в «Пе... (526, 673)        0.959233  \n",
       "Теперь же молодые люди узнали о возможностях тр... (272, 370)        0.871238  \n",
       "Эта встреча – не первая.                           (175, 199)        0.865987  \n",
       "Являясь сотрудниками «Первого Бита», ребята так... (767, 931)        0.981430  "
      ]
     },
     "execution_count": 30,
     "metadata": {},
     "output_type": "execute_result"
    }
   ],
   "source": [
    "result1_1"
   ]
  },
  {
   "cell_type": "code",
   "execution_count": 31,
   "id": "d0072783",
   "metadata": {},
   "outputs": [
    {
     "name": "stderr",
     "output_type": "stream",
     "text": [
      "100%|██████████| 12/12 [00:11<00:00,  1.03it/s]\n"
     ]
    }
   ],
   "source": [
    "columns = ['Sentence', 'Prev text', 'Entailment', 'Contradiction', 'Neutral']\n",
    "result2 = pd.DataFrame(columns=columns)\n",
    "\n",
    "for sentence in tqdm(sentences):\n",
    "    prev_text = ''\n",
    "    for prev_sentence in sentences[:sentences.index(sentence)]:\n",
    "        prev_text += prev_sentence['text']\n",
    "    \n",
    "    with torch.inference_mode():\n",
    "        out = model(**tokenizer(prev_text, sentence['text'], return_tensors='pt').to(model.device))\n",
    "        proba = torch.softmax(out.logits, -1).cpu().numpy()[0]\n",
    "    analysis = {v: proba[k] for k, v in model.config.id2label.items()}\n",
    "    \n",
    "    entailments.append(analysis['entailment'])\n",
    "    contradictions.append(analysis['contradiction'])\n",
    "    neutrals.append(analysis['neutral'])\n",
    "        \n",
    "    new_df = pd.DataFrame([\n",
    "        [sentence['text'], \n",
    "         prev_text, \n",
    "         analysis['entailment'], \n",
    "         analysis['contradiction'], \n",
    "         analysis['neutral']\n",
    "        ]], columns = columns)\n",
    "    result2 = result2.append(new_df)\n",
    "\n",
    "result2 = result2.reset_index(drop=True)"
   ]
  },
  {
   "cell_type": "code",
   "execution_count": 32,
   "id": "8faaef89",
   "metadata": {},
   "outputs": [
    {
     "data": {
      "text/plain": [
       "(array([1., 0., 0., 1., 2., 0., 1., 2., 1., 4.]),\n",
       " array([0.1492842 , 0.23325959, 0.31723498, 0.40121037, 0.48518576,\n",
       "        0.56916115, 0.65313655, 0.73711194, 0.82108733, 0.90506272,\n",
       "        0.98903811]),\n",
       " <BarContainer object of 10 artists>)"
      ]
     },
     "execution_count": 32,
     "metadata": {},
     "output_type": "execute_result"
    },
    {
     "data": {
      "image/png": "[encoded data removed]",
      "text/plain": [
       "<Figure size 432x288 with 1 Axes>"
      ]
     },
     "metadata": {
      "needs_background": "light"
     },
     "output_type": "display_data"
    }
   ],
   "source": [
    "plt.hist(result2['Neutral'])"
   ]
  },
  {
   "cell_type": "code",
   "execution_count": 34,
   "id": "a4955193",
   "metadata": {},
   "outputs": [],
   "source": [
    "del result2['Prev text']"
   ]
  },
  {
   "cell_type": "code",
   "execution_count": 33,
   "id": "ffd35484",
   "metadata": {},
   "outputs": [],
   "source": [
    "result2['Max'] = result2[['Entailment','Contradiction','Neutral']].idxmax(axis=1)"
   ]
  },
  {
   "cell_type": "code",
   "execution_count": 35,
   "id": "6808ebe1",
   "metadata": {
    "scrolled": true
   },
   "outputs": [
    {
     "data": {
      "text/html": [
       "<div>\n",
       "<style scoped>\n",
       "    .dataframe tbody tr th:only-of-type {\n",
       "        vertical-align: middle;\n",
       "    }\n",
       "\n",
       "    .dataframe tbody tr th {\n",
       "        vertical-align: top;\n",
       "    }\n",
       "\n",
       "    .dataframe thead th {\n",
       "        text-align: right;\n",
       "    }\n",
       "</style>\n",
       "<table border=\"1\" class=\"dataframe\">\n",
       "  <thead>\n",
       "    <tr style=\"text-align: right;\">\n",
       "      <th></th>\n",
       "      <th>Sentence</th>\n",
       "      <th>Entailment</th>\n",
       "      <th>Contradiction</th>\n",
       "      <th>Neutral</th>\n",
       "      <th>Max</th>\n",
       "    </tr>\n",
       "  </thead>\n",
       "  <tbody>\n",
       "    <tr>\n",
       "      <th>0</th>\n",
       "      <td>Сегодня в Технологическом университете им. А.А...</td>\n",
       "      <td>0.003123</td>\n",
       "      <td>0.007839</td>\n",
       "      <td>0.989038</td>\n",
       "      <td>Neutral</td>\n",
       "    </tr>\n",
       "    <tr>\n",
       "      <th>1</th>\n",
       "      <td>Эта встреча – не первая.</td>\n",
       "      <td>0.022912</td>\n",
       "      <td>0.111101</td>\n",
       "      <td>0.865987</td>\n",
       "      <td>Neutral</td>\n",
       "    </tr>\n",
       "    <tr>\n",
       "      <th>2</th>\n",
       "      <td>Ранее студенты уже познакомились с деятельност...</td>\n",
       "      <td>0.206707</td>\n",
       "      <td>0.021263</td>\n",
       "      <td>0.772029</td>\n",
       "      <td>Neutral</td>\n",
       "    </tr>\n",
       "    <tr>\n",
       "      <th>3</th>\n",
       "      <td>Теперь же молодые люди узнали о возможностях т...</td>\n",
       "      <td>0.336199</td>\n",
       "      <td>0.113163</td>\n",
       "      <td>0.550638</td>\n",
       "      <td>Neutral</td>\n",
       "    </tr>\n",
       "    <tr>\n",
       "      <th>4</th>\n",
       "      <td>Компания заинтересована в молодых и перспектив...</td>\n",
       "      <td>0.488943</td>\n",
       "      <td>0.002773</td>\n",
       "      <td>0.508283</td>\n",
       "      <td>Neutral</td>\n",
       "    </tr>\n",
       "    <tr>\n",
       "      <th>5</th>\n",
       "      <td>Поэтому специально для студентов её руководств...</td>\n",
       "      <td>0.014199</td>\n",
       "      <td>0.007509</td>\n",
       "      <td>0.978293</td>\n",
       "      <td>Neutral</td>\n",
       "    </tr>\n",
       "    <tr>\n",
       "      <th>6</th>\n",
       "      <td>Ребятам предлагается устроиться на работу в «П...</td>\n",
       "      <td>0.828829</td>\n",
       "      <td>0.021887</td>\n",
       "      <td>0.149284</td>\n",
       "      <td>Entailment</td>\n",
       "    </tr>\n",
       "    <tr>\n",
       "      <th>7</th>\n",
       "      <td>При успешном трудоустройстве, студенты пройдут...</td>\n",
       "      <td>0.176162</td>\n",
       "      <td>0.027450</td>\n",
       "      <td>0.796387</td>\n",
       "      <td>Neutral</td>\n",
       "    </tr>\n",
       "    <tr>\n",
       "      <th>8</th>\n",
       "      <td>Являясь сотрудниками «Первого Бита», ребята та...</td>\n",
       "      <td>0.055902</td>\n",
       "      <td>0.002377</td>\n",
       "      <td>0.941721</td>\n",
       "      <td>Neutral</td>\n",
       "    </tr>\n",
       "    <tr>\n",
       "      <th>9</th>\n",
       "      <td>Многих из присутствовавших на встрече студенто...</td>\n",
       "      <td>0.204496</td>\n",
       "      <td>0.365097</td>\n",
       "      <td>0.430407</td>\n",
       "      <td>Neutral</td>\n",
       "    </tr>\n",
       "    <tr>\n",
       "      <th>10</th>\n",
       "      <td>А остальных ребят, кто ещё не принял решение, ...</td>\n",
       "      <td>0.005709</td>\n",
       "      <td>0.015345</td>\n",
       "      <td>0.978946</td>\n",
       "      <td>Neutral</td>\n",
       "    </tr>\n",
       "    <tr>\n",
       "      <th>11</th>\n",
       "      <td>Напомним, компания «Первый Бит» давно известна...</td>\n",
       "      <td>0.312652</td>\n",
       "      <td>0.032146</td>\n",
       "      <td>0.655202</td>\n",
       "      <td>Neutral</td>\n",
       "    </tr>\n",
       "  </tbody>\n",
       "</table>\n",
       "</div>"
      ],
      "text/plain": [
       "                                             Sentence  Entailment  \\\n",
       "0   Сегодня в Технологическом университете им. А.А...    0.003123   \n",
       "1                            Эта встреча – не первая.    0.022912   \n",
       "2   Ранее студенты уже познакомились с деятельност...    0.206707   \n",
       "3   Теперь же молодые люди узнали о возможностях т...    0.336199   \n",
       "4   Компания заинтересована в молодых и перспектив...    0.488943   \n",
       "5   Поэтому специально для студентов её руководств...    0.014199   \n",
       "6   Ребятам предлагается устроиться на работу в «П...    0.828829   \n",
       "7   При успешном трудоустройстве, студенты пройдут...    0.176162   \n",
       "8   Являясь сотрудниками «Первого Бита», ребята та...    0.055902   \n",
       "9   Многих из присутствовавших на встрече студенто...    0.204496   \n",
       "10  А остальных ребят, кто ещё не принял решение, ...    0.005709   \n",
       "11  Напомним, компания «Первый Бит» давно известна...    0.312652   \n",
       "\n",
       "    Contradiction   Neutral         Max  \n",
       "0        0.007839  0.989038     Neutral  \n",
       "1        0.111101  0.865987     Neutral  \n",
       "2        0.021263  0.772029     Neutral  \n",
       "3        0.113163  0.550638     Neutral  \n",
       "4        0.002773  0.508283     Neutral  \n",
       "5        0.007509  0.978293     Neutral  \n",
       "6        0.021887  0.149284  Entailment  \n",
       "7        0.027450  0.796387     Neutral  \n",
       "8        0.002377  0.941721     Neutral  \n",
       "9        0.365097  0.430407     Neutral  \n",
       "10       0.015345  0.978946     Neutral  \n",
       "11       0.032146  0.655202     Neutral  "
      ]
     },
     "execution_count": 35,
     "metadata": {},
     "output_type": "execute_result"
    }
   ],
   "source": [
    "result2"
   ]
  },
  {
   "cell_type": "code",
   "execution_count": 36,
   "id": "84f58cc9",
   "metadata": {
    "scrolled": false
   },
   "outputs": [
    {
     "data": {
      "text/plain": [
       "<mpl_toolkits.mplot3d.art3d.Path3DCollection at 0x1242fc88>"
      ]
     },
     "execution_count": 36,
     "metadata": {},
     "output_type": "execute_result"
    },
    {
     "data": {
      "image/png": "[encoded data removed]",
      "text/plain": [
       "<Figure size 432x288 with 1 Axes>"
      ]
     },
     "metadata": {
      "needs_background": "light"
     },
     "output_type": "display_data"
    }
   ],
   "source": [
    "fig = plt.figure()\n",
    "ax = fig.add_subplot(projection='3d')\n",
    "ax.scatter(result2['Entailment'], result2['Contradiction'], result2['Neutral'], s=5)"
   ]
  },
  {
   "cell_type": "code",
   "execution_count": 38,
   "id": "7bcbf31f",
   "metadata": {},
   "outputs": [],
   "source": [
    "pca=PCA(n_components=2)\n",
    "pca_result = pca.fit_transform(result2[['Entailment', 'Contradiction', 'Neutral']])\n",
    "pca_df = pd.DataFrame(pca_result, columns=['x', 'y'])"
   ]
  },
  {
   "cell_type": "code",
   "execution_count": 39,
   "id": "0b6b0d2d",
   "metadata": {
    "scrolled": true
   },
   "outputs": [
    {
     "data": {
      "text/plain": [
       "<matplotlib.collections.PathCollection at 0x124a1908>"
      ]
     },
     "execution_count": 39,
     "metadata": {},
     "output_type": "execute_result"
    },
    {
     "data": {
      "image/png": "[encoded data removed]",
      "text/plain": [
       "<Figure size 432x288 with 1 Axes>"
      ]
     },
     "metadata": {
      "needs_background": "light"
     },
     "output_type": "display_data"
    }
   ],
   "source": [
    "plt.scatter(pca_df['x'], pca_df['y'], s=20)"
   ]
  },
  {
   "cell_type": "code",
   "execution_count": 40,
   "id": "c9e049e3",
   "metadata": {},
   "outputs": [
    {
     "data": {
      "image/png": "[encoded data removed]",
      "text/plain": [
       "<Figure size 576x576 with 1 Axes>"
      ]
     },
     "metadata": {
      "needs_background": "light"
     },
     "output_type": "display_data"
    }
   ],
   "source": [
    "fig = plt.figure(figsize = (8,8))\n",
    "ax = fig.add_subplot(1,1,1)\n",
    "\n",
    "targets = ['Entailment', 'Contradiction', 'Neutral']\n",
    "colors = ['g', 'r', 'b']\n",
    "markers = ['o', 'o', 'o']\n",
    "\n",
    "for target, color, marker in zip(targets,colors,markers):\n",
    "    indicesToKeep = result2['Max'] == target\n",
    "    ax.scatter(pca_df.loc[indicesToKeep, 'x']\n",
    "               , pca_df.loc[indicesToKeep, 'y']\n",
    "               , c = color\n",
    "               , s = 50\n",
    "               , marker = marker\n",
    "              )\n",
    "ax.legend(targets)\n",
    "ax.grid()"
   ]
  },
  {
   "cell_type": "code",
   "execution_count": 41,
   "id": "97da205d",
   "metadata": {},
   "outputs": [
    {
     "data": {
      "text/plain": [
       "array([0.89130316, 0.10869684])"
      ]
     },
     "execution_count": 41,
     "metadata": {},
     "output_type": "execute_result"
    }
   ],
   "source": [
    "pca.explained_variance_ratio_"
   ]
  },
  {
   "cell_type": "code",
   "execution_count": null,
   "id": "2e986c5e",
   "metadata": {},
   "outputs": [],
   "source": []
  }
 ],
 "metadata": {
  "kernelspec": {
   "display_name": "Python 3",
   "language": "python",
   "name": "python3"
  },
  "language_info": {
   "codemirror_mode": {
    "name": "ipython",
    "version": 3
   },
   "file_extension": ".py",
   "mimetype": "text/x-python",
   "name": "python",
   "nbconvert_exporter": "python",
   "pygments_lexer": "ipython3",
   "version": "3.6.13"
  }
 },
 "nbformat": 4,
 "nbformat_minor": 5
}
